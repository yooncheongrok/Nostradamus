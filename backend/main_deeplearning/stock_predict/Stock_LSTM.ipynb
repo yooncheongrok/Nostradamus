{
 "cells": [
  {
   "cell_type": "code",
   "execution_count": 2,
   "metadata": {},
   "outputs": [],
   "source": [
    "import tensorflow as tf\n",
    "from tensorflow import keras\n",
    "from tensorflow.keras import layers\n",
    "from tensorflow.keras import Sequential, Model\n",
    "from tensorflow.keras.layers import Dense , LSTM, Dropout\n",
    "from tensorflow.keras.preprocessing.sequence import pad_sequences\n",
    "import numpy as np\n",
    "import pandas as pd\n",
    "import matplotlib.pyplot as plt\n",
    "import seaborn as sns\n",
    "%matplotlib inline\n",
    "from sklearn.preprocessing import MinMaxScaler\n",
    "import pandas_datareader.data as pdr\n",
    "import datetime\n",
    "%load_ext tensorboard\n",
    "import firebase_admin\n",
    "from firebase_admin import credentials\n",
    "from firebase_admin import db\n",
    "import json\n"
   ]
  },
  {
   "cell_type": "code",
   "execution_count": 3,
   "metadata": {},
   "outputs": [],
   "source": [
    "class StockDataset():\n",
    "    ### X_frame, y_frames = 시퀀스 랭스 정하는 변수. \n",
    "    def __init__(self, symbol, x_frames, y_frames, start, end):\n",
    "    \n",
    "    ### StockDataset('028050.KS', 10, 5, (2001,1,1),(2005,1,1))로 삼성전자 호출. \n",
    "        \n",
    "        self.symbol = symbol\n",
    "        self.x_frames = x_frames ## sequnce. \n",
    "        self.y_frames = y_frames ## 우리는 하루 예측이라서 항상 1 \n",
    "        \n",
    "        self.start = datetime.datetime(*start) ##날짜받기.\n",
    "        self.end = datetime.datetime(*end) ##날짜받기. \n",
    "\n",
    "        self.data = pdr.DataReader(self.symbol, 'yahoo', self.start, self.end) ##야후에서 panda로 데이터를 보내줌. \n",
    "        print(\"number of MAN\")\n",
    "        print(self.data.isna().sum())\n",
    "        \n",
    "        ###ADj Close Drop out\n",
    "        self.data = self.data.drop(['Adj Close'], axis=1)\n",
    "    \n",
    "    ## sotfmax로 학습하기위해 y값 원핫 인코딩,\n",
    "    def For_one_hot_train(self,train_rate):\n",
    "        if 0<train_rate and train_rate<1:\n",
    "            self.data_train = self.data[ : int(self.data.shape[0]*train_rate)].copy()\n",
    "            ###스케일 넘파이로 바뀜 !\n",
    "            Scaler=MinMaxScaler()\n",
    "            self.data_train = Scaler.fit_transform(self.data_train)\n",
    "            ###트레인으로 짜름. \n",
    "\n",
    "            self.X_data_train = []\n",
    "            self.y_data_train = []\n",
    "\n",
    "            #### one_hot 트레이닝 셋으로 만들기. \n",
    "            for i in range(self.x_frames, self.data_train.shape[0]):\n",
    "\n",
    "                self.X_data_train.append(self.data_train[i-self.x_frames : i]) ## 예를들어 x데이터 60일치 짜르기. \n",
    "\n",
    "\n",
    "                if self.data_train[i,3] >= self.data_train[i-1,3]: ## 3번쨰 칼럼은 종가를 뜻함. y데이터는 종가보다 올랏으면 1 떨어졌으면 0\n",
    "                    self.y_data_train.append(1)\n",
    "                else:\n",
    "                    self.y_data_train.append(0)\n",
    "\n",
    "            self.X_data_train= np.array(self.X_data_train)\n",
    "            self.y_data_train= np.array(self.y_data_train)\n",
    "\n",
    "            \n",
    "            ## X_data_train dim = (traing_set, sequence(X_frames) , colummns(x의 요소 ))\n",
    "            return self.X_data_train, self.y_data_train\n",
    "        \n",
    "    def For_one_hot_test(self,test_rate):\n",
    "        if 0<test_rate and test_rate<1:\n",
    "            \n",
    "            \n",
    "            self.data_test = self.data[int(self.data.shape[0]*(1-test_rate)) : ].copy()\n",
    "            ###스케일\n",
    "            Scaler=MinMaxScaler()\n",
    "            self.data_test = Scaler.fit_transform(self.data_test)\n",
    "            ###테스트으로 짜름. \n",
    "\n",
    "            self.X_data_test = []\n",
    "            \n",
    "            self.y_data_test = []\n",
    "\n",
    "            #### one_hot 테스트 셋으로 만들기. \n",
    "            for i in range(self.x_frames, self.data_test.shape[0]):\n",
    "\n",
    "                self.X_data_test.append(self.data_test[i-self.x_frames : i]) ## 예를들어 x데이터 60일치 짜르기.\n",
    "                                                                            ## for문에서 마지막 포함 안하고 자르기에서 포함안해서 크기에서 -2 만큼 뒤에. \n",
    "\n",
    "\n",
    "                if self.data_test[i,3] >= self.data_test[i-1,3]: ## 3번쨰 칼럼은 종가를 뜻함. y데이터는 종가보다 올랏으면 1 떨어졌으면 0\n",
    "                    self.y_data_test.append(1)\n",
    "                else:\n",
    "                    self.y_data_test.append(0)\n",
    "\n",
    "            self.X_data_test= np.array(self.X_data_test)\n",
    "            self.y_data_test= np.array(self.y_data_test)\n",
    "\n",
    "            return self.X_data_test, self.y_data_test\n",
    "        \n",
    "    ###하루예측 dim 맞춰주기. (# of training, # of sequence, # of x의 요소 )\n",
    "    def For_tommorow(self):\n",
    "        Scaler=MinMaxScaler()\n",
    "        self.data_for_tommorow = self.data[self.data.shape[0]-self.x_frames :self.data.shape[0]]\n",
    "        self.data_for_tommorow = Scaler.fit_transform(self.data_for_tommorow)\n",
    "        self.data_for_tommorow = np.array(self.data_for_tommorow).reshape(1,self.x_frames,-1)\n",
    "        return self.data_for_tommorow\n",
    "        \n",
    "        \n",
    "### 로지스틱 정확도 함수 (label 이 두개일 때 . )        \n",
    "def accuracy(y_pred,y_test):\n",
    "    y_pred[y_pred<0.5] =0\n",
    "    y_pred[y_pred>=0.5]=1\n",
    "    \n",
    "    result =0\n",
    "    for i in range(0,y_pred.shape[0]):\n",
    "        if y_pred[i] == y_test[i]:\n",
    "            result +=1\n",
    "    \n",
    "    accuracy = (result/y_pred.shape[0])*100\n",
    "    \n",
    "    return accuracy\n",
    "    \n",
    "            \n",
    "\n",
    "    \n",
    "        \n",
    "        \n",
    "    \n",
    "        "
   ]
  },
  {
   "cell_type": "code",
   "execution_count": 6,
   "metadata": {},
   "outputs": [
    {
     "name": "stdout",
     "output_type": "stream",
     "text": [
      "number of MAN\n",
      "High         0\n",
      "Low          0\n",
      "Open         0\n",
      "Close        0\n",
      "Volume       0\n",
      "Adj Close    0\n",
      "dtype: int64\n"
     ]
    },
    {
     "data": {
      "text/html": [
       "<div>\n",
       "<style scoped>\n",
       "    .dataframe tbody tr th:only-of-type {\n",
       "        vertical-align: middle;\n",
       "    }\n",
       "\n",
       "    .dataframe tbody tr th {\n",
       "        vertical-align: top;\n",
       "    }\n",
       "\n",
       "    .dataframe thead th {\n",
       "        text-align: right;\n",
       "    }\n",
       "</style>\n",
       "<table border=\"1\" class=\"dataframe\">\n",
       "  <thead>\n",
       "    <tr style=\"text-align: right;\">\n",
       "      <th></th>\n",
       "      <th>High</th>\n",
       "      <th>Low</th>\n",
       "      <th>Open</th>\n",
       "      <th>Close</th>\n",
       "      <th>Volume</th>\n",
       "    </tr>\n",
       "    <tr>\n",
       "      <th>Date</th>\n",
       "      <th></th>\n",
       "      <th></th>\n",
       "      <th></th>\n",
       "      <th></th>\n",
       "      <th></th>\n",
       "    </tr>\n",
       "  </thead>\n",
       "  <tbody>\n",
       "    <tr>\n",
       "      <th>2001-01-01</th>\n",
       "      <td>3160.0</td>\n",
       "      <td>3160.0</td>\n",
       "      <td>3160.0</td>\n",
       "      <td>3160.0</td>\n",
       "      <td>0.0</td>\n",
       "    </tr>\n",
       "    <tr>\n",
       "      <th>2001-01-02</th>\n",
       "      <td>3380.0</td>\n",
       "      <td>3140.0</td>\n",
       "      <td>3160.0</td>\n",
       "      <td>3350.0</td>\n",
       "      <td>39455000.0</td>\n",
       "    </tr>\n",
       "    <tr>\n",
       "      <th>2001-01-03</th>\n",
       "      <td>3420.0</td>\n",
       "      <td>3220.0</td>\n",
       "      <td>3230.0</td>\n",
       "      <td>3370.0</td>\n",
       "      <td>37855000.0</td>\n",
       "    </tr>\n",
       "    <tr>\n",
       "      <th>2001-01-04</th>\n",
       "      <td>3870.0</td>\n",
       "      <td>3660.0</td>\n",
       "      <td>3790.0</td>\n",
       "      <td>3780.0</td>\n",
       "      <td>119910000.0</td>\n",
       "    </tr>\n",
       "    <tr>\n",
       "      <th>2001-01-05</th>\n",
       "      <td>3920.0</td>\n",
       "      <td>3700.0</td>\n",
       "      <td>3760.0</td>\n",
       "      <td>3900.0</td>\n",
       "      <td>78135000.0</td>\n",
       "    </tr>\n",
       "    <tr>\n",
       "      <th>...</th>\n",
       "      <td>...</td>\n",
       "      <td>...</td>\n",
       "      <td>...</td>\n",
       "      <td>...</td>\n",
       "      <td>...</td>\n",
       "    </tr>\n",
       "    <tr>\n",
       "      <th>2020-11-16</th>\n",
       "      <td>66700.0</td>\n",
       "      <td>63900.0</td>\n",
       "      <td>64000.0</td>\n",
       "      <td>66300.0</td>\n",
       "      <td>36354334.0</td>\n",
       "    </tr>\n",
       "    <tr>\n",
       "      <th>2020-11-17</th>\n",
       "      <td>67000.0</td>\n",
       "      <td>65600.0</td>\n",
       "      <td>67000.0</td>\n",
       "      <td>65700.0</td>\n",
       "      <td>30204089.0</td>\n",
       "    </tr>\n",
       "    <tr>\n",
       "      <th>2020-11-18</th>\n",
       "      <td>66200.0</td>\n",
       "      <td>64700.0</td>\n",
       "      <td>65700.0</td>\n",
       "      <td>64800.0</td>\n",
       "      <td>22963790.0</td>\n",
       "    </tr>\n",
       "    <tr>\n",
       "      <th>2020-11-19</th>\n",
       "      <td>64800.0</td>\n",
       "      <td>63900.0</td>\n",
       "      <td>64100.0</td>\n",
       "      <td>64600.0</td>\n",
       "      <td>16590290.0</td>\n",
       "    </tr>\n",
       "    <tr>\n",
       "      <th>2020-11-20</th>\n",
       "      <td>65200.0</td>\n",
       "      <td>63900.0</td>\n",
       "      <td>63900.0</td>\n",
       "      <td>64700.0</td>\n",
       "      <td>15068682.0</td>\n",
       "    </tr>\n",
       "  </tbody>\n",
       "</table>\n",
       "<p>4984 rows × 5 columns</p>\n",
       "</div>"
      ],
      "text/plain": [
       "               High      Low     Open    Close       Volume\n",
       "Date                                                       \n",
       "2001-01-01   3160.0   3160.0   3160.0   3160.0          0.0\n",
       "2001-01-02   3380.0   3140.0   3160.0   3350.0   39455000.0\n",
       "2001-01-03   3420.0   3220.0   3230.0   3370.0   37855000.0\n",
       "2001-01-04   3870.0   3660.0   3790.0   3780.0  119910000.0\n",
       "2001-01-05   3920.0   3700.0   3760.0   3900.0   78135000.0\n",
       "...             ...      ...      ...      ...          ...\n",
       "2020-11-16  66700.0  63900.0  64000.0  66300.0   36354334.0\n",
       "2020-11-17  67000.0  65600.0  67000.0  65700.0   30204089.0\n",
       "2020-11-18  66200.0  64700.0  65700.0  64800.0   22963790.0\n",
       "2020-11-19  64800.0  63900.0  64100.0  64600.0   16590290.0\n",
       "2020-11-20  65200.0  63900.0  63900.0  64700.0   15068682.0\n",
       "\n",
       "[4984 rows x 5 columns]"
      ]
     },
     "execution_count": 6,
     "metadata": {},
     "output_type": "execute_result"
    }
   ],
   "source": [
    "dataset = StockDataset('005930.KS', 90, 5, (2001,1,1),(2020,11,21))  ##005930.KS ,028050.KS\n",
    "\n",
    "dataset.data"
   ]
  },
  {
   "cell_type": "code",
   "execution_count": 4,
   "metadata": {},
   "outputs": [],
   "source": [
    "X_train, y_train =dataset.For_one_hot_train(0.8)\n",
    "X_test, y_test = dataset.For_one_hot_test(0.2)\n",
    "X_for_tommorow = dataset.For_tommorow()\n",
    "\n"
   ]
  },
  {
   "cell_type": "code",
   "execution_count": 5,
   "metadata": {},
   "outputs": [
    {
     "name": "stdout",
     "output_type": "stream",
     "text": [
      "Model: \"sequential\"\n",
      "_________________________________________________________________\n",
      "Layer (type)                 Output Shape              Param #   \n",
      "=================================================================\n",
      "lstm (LSTM)                  (None, 90, 60)            15840     \n",
      "_________________________________________________________________\n",
      "dropout (Dropout)            (None, 90, 60)            0         \n",
      "_________________________________________________________________\n",
      "lstm_1 (LSTM)                (None, 60)                29040     \n",
      "_________________________________________________________________\n",
      "dropout_1 (Dropout)          (None, 60)                0         \n",
      "_________________________________________________________________\n",
      "dense (Dense)                (None, 1)                 61        \n",
      "_________________________________________________________________\n",
      "activation (Activation)      (None, 1)                 0         \n",
      "=================================================================\n",
      "Total params: 44,941\n",
      "Trainable params: 44,941\n",
      "Non-trainable params: 0\n",
      "_________________________________________________________________\n"
     ]
    }
   ],
   "source": [
    "##모델. \n",
    "regression = Sequential()\n",
    "regression.add(LSTM(units = 60, activation ='relu', return_sequences = True,\n",
    "                    input_shape=(X_train.shape[1],X_train.shape[2])))\n",
    "regression.add(Dropout(0.1))\n",
    "\n",
    "\n",
    "### 마지막 아웃풋 many to one 모델. \n",
    "regression.add(LSTM(units = 60, activation ='relu')) ###마지막 아웃풋이라 시퀀스 리턴이 필요가없음. 아웃풋 1나와야됨. \n",
    "regression.add(Dropout(0.1))\n",
    "\n",
    "### 마지막 AL을 다시 fully nn 에 연결. 로지스틱이므로 마지막은 시그모이드로 출력\n",
    "regression.add(Dense(units = 1))\n",
    "regression.add(layers.Activation(activation='sigmoid'))\n",
    "\n",
    "regression.summary()  ### [batche, 인풋, 아웃풋]\n",
    "\n",
    "## amdam으로 초적화 하고 loss 함수는 label 이 2개임으로 binary_crossentorpy를 이용하였음\n",
    "\n",
    " \n",
    "regression.compile(optimizer='adam', loss='binary_crossentropy')\n"
   ]
  },
  {
   "cell_type": "code",
   "execution_count": 6,
   "metadata": {},
   "outputs": [
    {
     "name": "stdout",
     "output_type": "stream",
     "text": [
      "122/122 [==============================] - 8s 69ms/step - loss: 0.6922\n"
     ]
    },
    {
     "data": {
      "text/plain": [
       "<tensorflow.python.keras.callbacks.History at 0x1e2a5b0cb50>"
      ]
     },
     "execution_count": 6,
     "metadata": {},
     "output_type": "execute_result"
    }
   ],
   "source": [
    "### training 시작. \n",
    "\n",
    "regression.fit(X_train,y_train,epochs=1, batch_size=32, shuffle=True)"
   ]
  },
  {
   "cell_type": "code",
   "execution_count": 7,
   "metadata": {},
   "outputs": [
    {
     "data": {
      "text/plain": [
       "array([[0.53871346]], dtype=float32)"
      ]
     },
     "execution_count": 7,
     "metadata": {},
     "output_type": "execute_result"
    }
   ],
   "source": [
    "##예측값. \n",
    "y_pred_train = regression.predict(X_train)\n",
    "y_pred_test = regression.predict(X_test)\n",
    "y_pred_tommorow = regression.predict(X_for_tommorow)\n",
    "up = y_pred_tommorow[0,0]\n",
    "down = 1- y_pred_tommorow[0,0]\n",
    "y_pred_tommorow\n",
    "\n"
   ]
  },
  {
   "cell_type": "code",
   "execution_count": 8,
   "metadata": {},
   "outputs": [
    {
     "data": {
      "text/plain": [
       "{'probability': {'up': '0.53871346', 'down': '0.4612865447998047'}}"
      ]
     },
     "execution_count": 8,
     "metadata": {},
     "output_type": "execute_result"
    }
   ],
   "source": [
    "probability = {\"probability\" :{\"up\": str(up),\"down\": str(down)}}\n",
    "probability"
   ]
  },
  {
   "cell_type": "code",
   "execution_count": 9,
   "metadata": {},
   "outputs": [
    {
     "name": "stdout",
     "output_type": "stream",
     "text": [
      "train accuracy : 53.40005132152938 %\n",
      "test accuracy : 54.79603087100331 %\n",
      "up : 53.87134552001953 %, down : 46.12865447998047 %\n"
     ]
    }
   ],
   "source": [
    "##정확도 계산과 내일 몇 % 오를지 측정. \n",
    "print(\"train accuracy : %s %%\" % accuracy(y_pred_train,y_train))\n",
    "print(\"test accuracy : %s %%\" % accuracy(y_pred_test,y_test))\n",
    "print(\"up : %s %%, down : %s %%\" % (up*100, down*100))## 종목 내일의 확률\n"
   ]
  },
  {
   "cell_type": "code",
   "execution_count": 10,
   "metadata": {},
   "outputs": [
    {
     "data": {
      "text/plain": [
       "'\"{\\'probability\\': {\\'up\\': \\'0.53871346\\', \\'down\\': \\'0.4612865447998047\\'}}\"'"
      ]
     },
     "execution_count": 10,
     "metadata": {},
     "output_type": "execute_result"
    }
   ],
   "source": [
    "probability_json = json.dumps(str(probability), indent = 4)\n",
    "probability_json"
   ]
  },
  {
   "cell_type": "code",
   "execution_count": 11,
   "metadata": {},
   "outputs": [],
   "source": [
    "########### 데이터베이스에 올리기. \n",
    "\n",
    "cred = credentials.Certificate(\"./stock-b69a2-firebase-adminsdk-t55a0-66534d7508.json\")\n",
    "##키 파일\n",
    "firebase_admin.initialize_app(cred, {'databaseURL':'https://fir-76481.firebaseio.com'})\n",
    "dir = db.reference()\n",
    "## 데이터베이스 접근. \n",
    "\n"
   ]
  },
  {
   "cell_type": "code",
   "execution_count": 13,
   "metadata": {},
   "outputs": [],
   "source": [
    "dir.update({'소프트웨어 공학':'과제' })"
   ]
  },
  {
   "cell_type": "code",
   "execution_count": 12,
   "metadata": {},
   "outputs": [],
   "source": [
    "dir.update(probability)\n"
   ]
  }
 ],
 "metadata": {
  "kernelspec": {
   "display_name": "Python 3",
   "language": "python",
   "name": "python3"
  },
  "language_info": {
   "codemirror_mode": {
    "name": "ipython",
    "version": 3
   },
   "file_extension": ".py",
   "mimetype": "text/x-python",
   "name": "python",
   "nbconvert_exporter": "python",
   "pygments_lexer": "ipython3",
   "version": "3.8.5"
  }
 },
 "nbformat": 4,
 "nbformat_minor": 4
}
